{
 "cells": [
  {
   "cell_type": "markdown",
   "metadata": {
    "id": "KOYP0z0mDt9E"
   },
   "source": [
    "<div style=\"text-align: center; margin: 50px\">\n",
    "\n",
    "<h3>Building Boolean function oracles</h3>\n",
    "</div>"
   ]
  },
  {
   "cell_type": "code",
   "execution_count": null,
   "metadata": {
    "id": "ILE8h22-Dt9F",
    "tags": []
   },
   "outputs": [],
   "source": [
    "# Import qiskit and call it q for short so we can construct,simulate, and run quantum circuits!\n",
    "import qiskit as q\n",
    "# Import Numpy library and call it np so we can do maths!\n",
    "import numpy as np\n",
    "# Import the python plotting module of matplotlib and call it plt so we can draw graphs!\n",
    "import matplotlib.pyplot as plt\n",
    "# Tell matplotlib that we are in an Ipython notebook\n",
    "%matplotlib inline"
   ]
  },
  {
   "cell_type": "markdown",
   "metadata": {
    "id": "0OiHrhZjDt9J"
   },
   "source": [
    "## Boolean function formula:\n",
    "\n",
    "Consider a 3 variable Boolean function given as an Algebraic Normal form:\n",
    "\n",
    "$$F(x_0,x_1,x_2) = x_0x_1x_2 + x_1x_2 + x_0$$\n",
    "\n",
    "First one needs to determine the number of qubits required for constucting this oracle. This is determined by looking at the highest degree term.\n",
    "\n",
    "In this case, this is a cubic function. This implies that the maximum number of qubits needed for constructing the bit oracle is 5: 3 for the input variables, 1 for the output variable and 1 internal qubit for the cubic term. "
   ]
  },
  {
   "cell_type": "markdown",
   "metadata": {
    "id": "qQ1MRyu3Dt9O"
   },
   "source": [
    "### Variable assignment\n",
    "\n",
    "The following qubits are assigned to the correponding Boolean variables:\n",
    "\n",
    "$$ x_0 \\rightarrow q_0 \\\\\n",
    "   x_1 \\rightarrow q_1 \\\\\n",
    "   x_2 \\rightarrow q_2 $$\n",
    "   \n",
    "   $q_3$ is the internal qubit, $q_4$ will store the final answer."
   ]
  },
  {
   "cell_type": "code",
   "execution_count": null,
   "metadata": {
    "colab": {
     "base_uri": "https://localhost:8080/",
     "height": 140
    },
    "executionInfo": {
     "elapsed": 538,
     "status": "ok",
     "timestamp": 1604279108643,
     "user": {
      "displayName": "Akshay Agarwal",
      "photoUrl": "",
      "userId": "05018767796152976477"
     },
     "user_tz": 300
    },
    "id": "nSv7ktpUDt9J",
    "outputId": "0fd7dc62-582b-43d8-af38-03e88c3015d6",
    "tags": []
   },
   "outputs": [],
   "source": [
    "# Therefore, this circuit needs 5 quantum bits but only 4 classical bits.\n",
    "circ = q.QuantumCircuit(5,4)\n",
    "display(circ.draw(output=\"mpl\"))"
   ]
  },
  {
   "cell_type": "markdown",
   "metadata": {
    "id": "qQ1MRyu3Dt9O"
   },
   "source": [
    "## Input initialization\n",
    "\n",
    "### *The input being passed to the Boolean function oracle can be implemented here:*\n",
    "\n",
    "For purposes of this example Hadamard gates are applied to the input qubits $q_0,q_1,q_2$\n",
    "\n",
    "$$ \\begin{align} \n",
    "H \\otimes H \\otimes H \\, |000\\rangle & \\rightarrow \\left(\\frac{|0\\rangle + |1\\rangle}{\\sqrt{2}}\\right) \\otimes \\left(\\frac{|0\\rangle + |1\\rangle}{\\sqrt{2}}\\right) \\otimes \\left(\\frac{|0\\rangle + |1\\rangle}{\\sqrt{2}}\\right) \\\\\n",
    "& = \\frac{1}{2\\sqrt{2}} \\left( |000\\rangle + |001\\rangle + |010\\rangle + |011\\rangle + |100\\rangle + |101\\rangle + |110\\rangle + |111\\rangle \\right)\n",
    "\\end{align}$$\n",
    "\n",
    "This will ensure that every possible input is simultaneously sent to the oracle in equal superposition.\n",
    "\n",
    " *The gates required to pass a particular input is commented out in the same block*"
   ]
  },
  {
   "cell_type": "code",
   "execution_count": null,
   "metadata": {
    "colab": {
     "base_uri": "https://localhost:8080/",
     "height": 140
    },
    "executionInfo": {
     "elapsed": 469,
     "status": "ok",
     "timestamp": 1604279131917,
     "user": {
      "displayName": "Akshay Agarwal",
      "photoUrl": "",
      "userId": "05018767796152976477"
     },
     "user_tz": 300
    },
    "id": "9QYYCbmODt9O",
    "outputId": "3264bb79-1e65-4867-aba5-43adda2661ed",
    "tags": []
   },
   "outputs": [],
   "source": [
    "# Input initializaion, use the inputs as necessary\n",
    "\n",
    "# Use the three lines below to pass a single value:\n",
    "#circ.x(0) # Use to set the x_0 to 1\n",
    "#circ.x(1) # Use to set the x_1 to 1\n",
    "#circ.x(2) # Use to set the x_2 to 1\n",
    "\n",
    "# Use the three lines below to pass all possible inouts:\n",
    "circ.h(0)\n",
    "circ.h(1)\n",
    "circ.h(2)\n",
    "\n",
    "\n",
    "circ.barrier()\n",
    "display(circ.draw(output=\"mpl\"))"
   ]
  },
  {
   "cell_type": "markdown",
   "metadata": {
    "id": "FXW3ckDyDt9S"
   },
   "source": [
    "## Constructing the degree $3$ term\n",
    "\n",
    "### *The Toffoli gate* \n",
    "\n",
    "The cubic term can be visulaised by AND and operations\n",
    "\n",
    "$$ (x_0 \\wedge x_1) \\wedge x_2 $$\n",
    "\n",
    "Each AND operation requires two Toffoli gates, the result of the first AND operation will be stored on the internal qubit ($q_3$) and this result is used as an input for the second AND operation, this reqs anther Toffoli gate. \n",
    "\n"
   ]
  },
  {
   "cell_type": "code",
   "execution_count": null,
   "metadata": {
    "id": "58x_yexwhnTm",
    "tags": []
   },
   "outputs": [],
   "source": [
    "# Constructing the cubic term\n",
    "circ.ccx(0,1,3) # First AND operation\n",
    "circ.ccx(2,3,4) # Second AND operation\n",
    "circ.ccx(0,1,3) # Resetting the temporary qubit\n",
    "circ.barrier()\n",
    "display(circ.draw(output=\"mpl\"))"
   ]
  },
  {
   "cell_type": "markdown",
   "metadata": {
    "id": "FXW3ckDyDt9S"
   },
   "source": [
    "## Constructing the degree $2$ term\n",
    "\n",
    "\n",
    "The quadratic term can be visualised with a single toffoli gate\n",
    "\n",
    "$$ x_1 \\wedge x_2 $$\n",
    "\n",
    "This result can be directly implemented on the ultimate target qubit $q_4$ \n"
   ]
  },
  {
   "cell_type": "code",
   "execution_count": null,
   "metadata": {
    "id": "58x_yexwhnTm",
    "tags": []
   },
   "outputs": [],
   "source": [
    "# Constructing the quadratic term\n",
    "circ.ccx(1,2,4) # Single AND operation\n",
    "circ.barrier()\n",
    "display(circ.draw(output=\"mpl\"))"
   ]
  },
  {
   "cell_type": "markdown",
   "metadata": {
    "id": "FXW3ckDyDt9S"
   },
   "source": [
    "## Constructing the degree $1$ term\n",
    "\n",
    "\n",
    "The final term can be added (XORed) to the result through a single CNOT gate"
   ]
  },
  {
   "cell_type": "code",
   "execution_count": null,
   "metadata": {
    "id": "58x_yexwhnTm",
    "tags": []
   },
   "outputs": [],
   "source": [
    "# Constructing the linear term\n",
    "circ.cx(0,4) # CNOT gate\n",
    "circ.barrier()\n",
    "display(circ.draw(output=\"mpl\"))"
   ]
  },
  {
   "cell_type": "markdown",
   "metadata": {
    "id": "FXW3ckDyDt9S"
   },
   "source": [
    "## Measuring the output\n",
    "\n",
    "\n",
    "Finally, measurement operations are applied with the following bits representing the outcomes.\n",
    "\n",
    "$$ q_0 \\rightarrow c_3 \\\\\n",
    "   q_1 \\rightarrow c_2 \\\\\n",
    "   q_2 \\rightarrow c_1 \\\\\n",
    "   q_4 \\rightarrow c_0 $$\n",
    "   \n",
    "This ordering is done here to make sure we can read off the input and output values according to predefined conventions."
   ]
  },
  {
   "cell_type": "code",
   "execution_count": null,
   "metadata": {
    "id": "58x_yexwhnTm",
    "tags": []
   },
   "outputs": [],
   "source": [
    "# Performing measurments\n",
    "circ.measure([0,1,2,4],[3,2,1,0])\n",
    "display(circ.draw(output=\"mpl\"))"
   ]
  },
  {
   "cell_type": "markdown",
   "metadata": {
    "id": "FXW3ckDyDt9S"
   },
   "source": [
    "## Testing the Circuit on the QASM simulator\n",
    "\n",
    "\n",
    "The following commands are used to implement the circuit on the simulator."
   ]
  },
  {
   "cell_type": "code",
   "execution_count": null,
   "metadata": {
    "tags": []
   },
   "outputs": [],
   "source": [
    "backend = q.Aer.get_backend('qasm_simulator')  # specifying that we will use qasm simulator\n",
    "job = q.execute(circ, backend, shots = 1024)  # shots=1024 specifies that the circuit will be run 1024 times\n",
    "result = job.result()\n",
    "# getting the counts, i.e., the fraction of times the circuit gave all the possible results\n",
    "counts = result.get_counts(circ)  \n",
    "graph = q.visualization.plot_histogram(counts)\n",
    "display(graph)"
   ]
  },
  {
   "cell_type": "markdown",
   "metadata": {},
   "source": [
    "# Do the measurments on a real quantum computer"
   ]
  },
  {
   "cell_type": "code",
   "execution_count": null,
   "metadata": {
    "tags": []
   },
   "outputs": [],
   "source": [
    "from qiskit import IBMQ\n",
    "\n",
    "# Load local account information\n",
    "IBMQ.save_account('paste API token here', overwrite=True) \n",
    "provider = IBMQ.load_account()"
   ]
  },
  {
   "cell_type": "code",
   "execution_count": null,
   "metadata": {
    "tags": []
   },
   "outputs": [],
   "source": [
    "\n",
    "from qiskit.providers.ibmq import least_busy\n",
    "shots = 256\n",
    "\n",
    "#IBMQ.load_account()\n",
    "# Get the least busy backend\n",
    "provider = IBMQ.get_provider(hub='ibm-q')\n",
    "backend = least_busy(provider.backends(filters=lambda x: x.configuration().n_qubits >= 2 \n",
    "                                       and not x.configuration().simulator \n",
    "                                       and x.status().operational==True))\n",
    "print(\"least busy backend: \", backend)\n",
    "\n",
    "\n",
    "# Run our circuit\n",
    "job = q.execute(circ, backend=backend, shots=shots)"
   ]
  },
  {
   "cell_type": "code",
   "execution_count": null,
   "metadata": {
    "tags": []
   },
   "outputs": [],
   "source": [
    "job.status()"
   ]
  },
  {
   "cell_type": "code",
   "execution_count": null,
   "metadata": {
    "tags": []
   },
   "outputs": [],
   "source": [
    "# Monitoring our job\n",
    "from qiskit.tools.monitor import job_monitor\n",
    "job_monitor(job)"
   ]
  },
  {
   "cell_type": "code",
   "execution_count": null,
   "metadata": {
    "tags": []
   },
   "outputs": [],
   "source": [
    "job.job_id()\n",
    "\n"
   ]
  },
  {
   "cell_type": "code",
   "execution_count": null,
   "metadata": {
    "tags": []
   },
   "outputs": [],
   "source": [
    "# Plotting our result\n",
    "result = job.result()\n",
    "q.visualization.plot_histogram(result.get_counts(circ))"
   ]
  },
  {
   "cell_type": "code",
   "execution_count": null,
   "metadata": {},
   "outputs": [],
   "source": []
  }
 ],
 "metadata": {
  "colab": {
   "name": "QxQ Gates, Measurement, and Quantum Circuits.ipynb",
   "provenance": []
  },
  "kernelspec": {
   "display_name": "Python 3 (ipykernel)",
   "language": "python",
   "name": "python3"
  },
  "language_info": {
   "codemirror_mode": {
    "name": "ipython",
    "version": 3
   },
   "file_extension": ".py",
   "mimetype": "text/x-python",
   "name": "python",
   "nbconvert_exporter": "python",
   "pygments_lexer": "ipython3",
   "version": "3.9.7"
  },
  "widgets": {
   "application/vnd.jupyter.widget-state+json": {
    "state": {},
    "version_major": 2,
    "version_minor": 0
   }
  }
 },
 "nbformat": 4,
 "nbformat_minor": 4
}
